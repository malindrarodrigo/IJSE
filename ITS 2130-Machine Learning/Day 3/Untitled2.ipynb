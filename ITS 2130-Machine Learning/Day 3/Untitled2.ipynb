{
 "cells": [
  {
   "cell_type": "markdown",
   "id": "2191e69d-6c94-4972-90ec-47beab4036e1",
   "metadata": {},
   "source": [
    "# Linear Regression :Predicting House Prices"
   ]
  },
  {
   "cell_type": "markdown",
   "id": "7d0a7353-a644-405f-92ab-6d183e98d396",
   "metadata": {},
   "source": [
    "### Problem Statement:\n",
    "##### You are provided with a dataset containing information about houses, including features like the size of the house (in square feet) and the number of bedrooms. The goal is to predict the price of a house based on these features using linear regression."
   ]
  },
  {
   "cell_type": "markdown",
   "id": "a21121b5-b1d2-47ac-8d0d-0ebf675b8f00",
   "metadata": {},
   "source": [
    "| Size (sqft) | Bedrooms | Price ($) |\n",
    "|-------------|----------|-----------|\n",
    "| 2104        | 3        | 399900    |\n",
    "| 1600        | 3        | 329900    |\n",
    "| 2400        | 3        | 369000    |\n",
    "| 1416        | 2        | 232000    |\n",
    "| 3000        | 4        | 539900    |"
   ]
  },
  {
   "cell_type": "markdown",
   "id": "6bd3737f-93c1-4ea5-88b1-344387dee198",
   "metadata": {},
   "source": [
    "## Step 1: Load the Dataset"
   ]
  },
  {
   "cell_type": "code",
   "execution_count": 2,
   "id": "2a9d41c6-255f-43b1-90f4-1633004a2bc7",
   "metadata": {},
   "outputs": [
    {
     "name": "stdout",
     "output_type": "stream",
     "text": [
      "   Size (sqft)  Bedrooms  Price ($)\n",
      "0         2104         3     399900\n",
      "1         1600         3     329900\n",
      "2         2400         3     369000\n",
      "3         1416         2     232000\n",
      "4         3000         4     539900\n"
     ]
    }
   ],
   "source": [
    "import pandas as pd\n",
    "\n",
    "\n",
    "data = {\n",
    "    'Size (sqft)': [2104, 1600, 2400, 1416, 3000],\n",
    "    'Bedrooms': [3, 3, 3, 2, 4],\n",
    "    'Price ($)': [399900, 329900, 369000, 232000, 539900]\n",
    "}\n",
    "\n",
    "\n",
    "df = pd.DataFrame(data)\n",
    "print(df)"
   ]
  },
  {
   "cell_type": "code",
   "execution_count": 3,
   "id": "72309be2-0c64-4ead-a70b-df72dba0260e",
   "metadata": {},
   "outputs": [
    {
     "data": {
      "image/png": "[encoded data removed]",
      "text/plain": [
       "<Figure size 640x480 with 1 Axes>"
      ]
     },
     "metadata": {},
     "output_type": "display_data"
    }
   ],
   "source": [
    "import matplotlib.pyplot as plt\n",
    "\n",
    "# Plot Size vs. Price\n",
    "plt.scatter(df['Size (sqft)'], df['Price ($)'], color='blue', label='Size')\n",
    "plt.xlabel('Size (sqft)')\n",
    "plt.ylabel('Price ($)')\n",
    "plt.title('Size vs. Price')\n",
    "plt.show()"
   ]
  },
  {
   "cell_type": "markdown",
   "id": "912e96c0-6e8c-4430-b95f-59564267de65",
   "metadata": {},
   "source": [
    "## Step 4: Define and Train the Linear Regression Model\n",
    "#### Using scikit-learn's LinearRegression class:"
   ]
  },
  {
   "cell_type": "code",
   "execution_count": 4,
   "id": "63adef43-7607-4eec-a946-5d34dcc2a670",
   "metadata": {},
   "outputs": [
    {
     "name": "stdout",
     "output_type": "stream",
     "text": [
      "Intercept (theta_0): -70314.65116279066\n"
     ]
    }
   ],
   "source": [
    "\n",
    "# Separate features and target variable\n",
    "X = df[['Size (sqft)', 'Bedrooms']].values\n",
    "y = df['Price ($)'].values\n",
    "\n",
    "from sklearn.linear_model import LinearRegression\n",
    "\n",
    "# Create the linear regression model\n",
    "model = LinearRegression()\n",
    "model.fit(X, y)\n",
    "\n",
    "theta_0 = model.intercept_\n",
    "print(f'Intercept (theta_0): {theta_0}')"
   ]
  },
  {
   "cell_type": "code",
   "execution_count": 5,
   "id": "14943515-a03f-43d3-a436-9a76b5456fd3",
   "metadata": {},
   "outputs": [
    {
     "name": "stdout",
     "output_type": "stream",
     "text": [
      "Coefficient for Size (theta_1): 63.95348837209308\n",
      "Coefficient for Bedrooms (theta_2): 103298.83720930228\n"
     ]
    }
   ],
   "source": [
    "theta_1, theta_2 = model.coef_\n",
    "print(f'Coefficient for Size (theta_1): {theta_1}')\n",
    "print(f'Coefficient for Bedrooms (theta_2): {theta_2}')"
   ]
  },
  {
   "cell_type": "code",
   "execution_count": 6,
   "id": "28fe30a9-284b-4bd2-a110-58e15d651f9d",
   "metadata": {},
   "outputs": [
    {
     "data": {
      "text/plain": [
       "array([399465.58139535])"
      ]
     },
     "execution_count": 6,
     "metadata": {},
     "output_type": "execute_result"
    }
   ],
   "source": [
    "predictions = model.predict([[2500,3]])\n",
    "predictions"
   ]
  },
  {
   "cell_type": "markdown",
   "id": "8438660b-4792-4c9b-881f-c36312bca030",
   "metadata": {},
   "source": [
    "## Step 5: Make Predictions\n",
    "#### Using the trained model to make predictions:"
   ]
  },
  {
   "cell_type": "code",
   "execution_count": 7,
   "id": "0d1463db-d8d1-4658-a878-0bd909d885bb",
   "metadata": {},
   "outputs": [
    {
     "name": "stdout",
     "output_type": "stream",
     "text": [
      "Predicted prices: [374140.         341907.44186047 393070.23255814 226841.1627907\n",
      " 534741.1627907 ]\n"
     ]
    }
   ],
   "source": [
    "# Make predictions\n",
    "predictions = model.predict(X)\n",
    "print('Predicted prices:', predictions)"
   ]
  },
  {
   "cell_type": "code",
   "execution_count": 8,
   "id": "fca160ad-69b2-41c2-a71f-a067ff16d943",
   "metadata": {},
   "outputs": [
    {
     "name": "stdout",
     "output_type": "stream",
     "text": [
      "   Actual Price in Y  Predicted Price from model    Difference\n",
      "0             399900               374140.000000  25760.000000\n",
      "1             329900               341907.441860 -12007.441860\n",
      "2             369000               393070.232558 -24070.232558\n",
      "3             232000               226841.162791   5158.837209\n",
      "4             539900               534741.162791   5158.837209\n"
     ]
    }
   ],
   "source": [
    "comparison = pd.DataFrame({\n",
    "    'Actual Price in Y': y,\n",
    "    'Predicted Price from model': predictions,\n",
    "    'Difference': y - predictions\n",
    "})\n",
    "\n",
    "print(comparison)"
   ]
  },
  {
   "cell_type": "markdown",
   "id": "7c3c184c-7cd7-44f4-82a3-a570921af13a",
   "metadata": {},
   "source": [
    "# Q1\n",
    "## Predict the weight based on a given height\n",
    "#### https://github.com/malindrarodrigo/IJSE/tree/main/ITS%202130-Machine%20Learning"
   ]
  },
  {
   "cell_type": "code",
   "execution_count": null,
   "id": "6d91e744-9aee-4d32-9c97-df9394fd441d",
   "metadata": {},
   "outputs": [],
   "source": []
  }
 ],
 "metadata": {
  "kernelspec": {
   "display_name": "Python 3 (ipykernel)",
   "language": "python",
   "name": "python3"
  },
  "language_info": {
   "codemirror_mode": {
    "name": "ipython",
    "version": 3
   },
   "file_extension": ".py",
   "mimetype": "text/x-python",
   "name": "python",
   "nbconvert_exporter": "python",
   "pygments_lexer": "ipython3",
   "version": "3.11.7"
  }
 },
 "nbformat": 4,
 "nbformat_minor": 5
}
