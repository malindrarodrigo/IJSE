{
 "cells": [
  {
   "cell_type": "code",
   "execution_count": 1,
   "id": "3f8d349e-8684-48d8-a56e-337d9c88910f",
   "metadata": {},
   "outputs": [],
   "source": [
    "from sklearn.datasets import load_iris\n",
    "\n",
    "# Load the dataset\n",
    "iris = load_iris()\n",
    "X = iris.data\n",
    "y = iris.target"
   ]
  },
  {
   "cell_type": "code",
   "execution_count": null,
   "id": "806a9fff-0772-424c-9c6a-eb6d4762a086",
   "metadata": {},
   "outputs": [],
   "source": [
    "data = [[5.1, 3.5, 1.4, 0.2]]"
   ]
  },
  {
   "cell_type": "markdown",
   "id": "051ec5ee-2f38-420f-9095-cbda27dc4964",
   "metadata": {},
   "source": [
    "### Load the dataset\n",
    "### Explore the dataset\n",
    "### Preprocess the data\n",
    "### Split the data into training and test sets\n",
    "### Train a DecisionTreeClassifier\n",
    "### Evaluate the model"
   ]
  },
  {
   "cell_type": "code",
   "execution_count": null,
   "id": "8e06cf5b-f1b9-44c6-8a68-ee596fc37291",
   "metadata": {},
   "outputs": [],
   "source": []
  }
 ],
 "metadata": {
  "kernelspec": {
   "display_name": "Python 3 (ipykernel)",
   "language": "python",
   "name": "python3"
  },
  "language_info": {
   "codemirror_mode": {
    "name": "ipython",
    "version": 3
   },
   "file_extension": ".py",
   "mimetype": "text/x-python",
   "name": "python",
   "nbconvert_exporter": "python",
   "pygments_lexer": "ipython3",
   "version": "3.11.7"
  }
 },
 "nbformat": 4,
 "nbformat_minor": 5
}
