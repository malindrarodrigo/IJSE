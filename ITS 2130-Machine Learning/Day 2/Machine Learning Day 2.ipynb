{
 "cells": [
  {
   "cell_type": "code",
   "execution_count": 10,
   "id": "e5e4625d-4485-4da1-b0bb-5623dccdde34",
   "metadata": {},
   "outputs": [
    {
     "name": "stdout",
     "output_type": "stream",
     "text": [
      "[1 2 3 4 5]\n",
      "[0. 0. 0. 0. 0.]\n",
      "[[1. 1. 1.]\n",
      " [1. 1. 1.]]\n"
     ]
    }
   ],
   "source": [
    "#!pip install numpy\n",
    "import numpy as np\n",
    "\n",
    "# Create an array from a list\n",
    "arr = np.array([1, 2, 3, 4, 5])\n",
    "print(arr)  # Output: [1 2 3 4 5]\n",
    "\n",
    "# Create an array of zeros\n",
    "zeros_arr = np.zeros(5)  # Create an array with 5 zeros\n",
    "print(zeros_arr)  # Output: [0. 0. 0. 0. 0.]\n",
    "\n",
    "# Create an array of ones\n",
    "ones_arr = np.ones((2, 3))  # Create a 2D array with ones\n",
    "print(ones_arr)  # Output: [[1. 1. 1.]\n",
    "                  #        [1. 1. 1.]]\n"
   ]
  },
  {
   "cell_type": "code",
   "execution_count": 16,
   "id": "c19d3251-7e4c-40e5-bd74-eb3fb66ba8df",
   "metadata": {},
   "outputs": [
    {
     "name": "stdout",
     "output_type": "stream",
     "text": [
      "      Name  Age         City\n",
      "0    Alice   25     New York\n",
      "1      Bob   30  Los Angeles\n",
      "2  Charlie   35      Chicago\n"
     ]
    }
   ],
   "source": [
    "import pandas as pd\n",
    "\n",
    "# Creating a DataFrame\n",
    "data = {\n",
    "    'Name': ['Alice', 'Bob', 'Charlie'],\n",
    "    'Age': [25, 30, 35],\n",
    "    'City': ['New York', 'Los Angeles', 'Chicago']\n",
    "}\n",
    "df = pd.DataFrame(data)\n",
    "\n",
    "# Display the DataFrame\n",
    "print(df)\n",
    "\n"
   ]
  },
  {
   "cell_type": "code",
   "execution_count": 17,
   "id": "dd492107-3bca-4416-a3d9-b43d3ac07637",
   "metadata": {},
   "outputs": [
    {
     "name": "stdout",
     "output_type": "stream",
     "text": [
      "Channels:\n",
      "Note: you may need to restart the kernel to use updated packages.\n",
      "\n",
      " - defaults\n",
      " - anaconda\n",
      "Platform: win-64\n",
      "Collecting package metadata (repodata.json): ...working... done\n",
      "Solving environment: ...working... done\n",
      "\n",
      "## Package Plan ##\n",
      "\n",
      "  environment location: C:\\Users\\suhashr\\AppData\\Local\\anaconda3\n",
      "\n",
      "  added / updated specs:\n",
      "    - anaconda::pandas\n",
      "\n",
      "\n",
      "The following packages will be downloaded:\n",
      "\n",
      "    package                    |            build\n",
      "    ---------------------------|-----------------\n",
      "    pandas-2.1.1               |  py311hf62ec03_0        14.7 MB  anaconda\n",
      "    ------------------------------------------------------------\n",
      "                                           Total:        14.7 MB\n",
      "\n",
      "The following packages will be SUPERSEDED by a higher-priority channel:\n",
      "\n",
      "  pandas             pkgs/main::pandas-2.1.4-py311hf62ec03~ --> anaconda::pandas-2.1.1-py311hf62ec03_0 \n",
      "\n",
      "\n",
      "\n",
      "Downloading and Extracting Packages: ...working... done\n",
      "Preparing transaction: ...working... done\n",
      "Verifying transaction: ...working... done\n",
      "Executing transaction: ...working... done\n"
     ]
    }
   ],
   "source": [
    "conda install anaconda::pandas\n"
   ]
  },
  {
   "cell_type": "code",
   "execution_count": null,
   "id": "4dc8f05f-7dcf-42b7-9be4-9e216f72bb29",
   "metadata": {},
   "outputs": [],
   "source": []
  }
 ],
 "metadata": {
  "kernelspec": {
   "display_name": "Python 3 (ipykernel)",
   "language": "python",
   "name": "python3"
  },
  "language_info": {
   "codemirror_mode": {
    "name": "ipython",
    "version": 3
   },
   "file_extension": ".py",
   "mimetype": "text/x-python",
   "name": "python",
   "nbconvert_exporter": "python",
   "pygments_lexer": "ipython3",
   "version": "3.11.7"
  }
 },
 "nbformat": 4,
 "nbformat_minor": 5
}
