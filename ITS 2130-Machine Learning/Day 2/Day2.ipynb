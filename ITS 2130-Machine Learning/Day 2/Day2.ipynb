{
 "cells": [
  {
   "cell_type": "code",
   "execution_count": 3,
   "id": "592f5255-aca2-4ed7-97f0-2f7d9fcc34a7",
   "metadata": {},
   "outputs": [
    {
     "name": "stdout",
     "output_type": "stream",
     "text": [
      "Hello World\n"
     ]
    }
   ],
   "source": [
    "print (\"Hello World\")"
   ]
  },
  {
   "cell_type": "markdown",
   "id": "e36321cb-cab6-49d7-ba78-48be82bc37f7",
   "metadata": {},
   "source": [
    "# Markdown in Jupyter Notebook"
   ]
  },
  {
   "cell_type": "code",
   "execution_count": 1,
   "id": "a2f26e16-2552-4c15-8cd0-05e8b85cb2f2",
   "metadata": {},
   "outputs": [],
   "source": [
    "# (Header 1, title)\n",
    "\n",
    "## (Header 2, major headings)\n",
    "\n",
    "### (Header 3, subheadings)\n",
    "\n",
    "#### (Header 4)\n",
    "\n",
    "##### (Header 5)\n",
    "\n",
    "###### (Header 6)``\n"
   ]
  },
  {
   "cell_type": "markdown",
   "id": "8b232003-c97c-4163-995f-39cbe7cee236",
   "metadata": {},
   "source": [
    ">This is good\r\n",
    "<blockquote>This is good</blockquote>"
   ]
  },
  {
   "cell_type": "markdown",
   "id": "234ce583-568f-4292-a3a0-4a3f46bc26e8",
   "metadata": {},
   "source": [
    "<code>Python\n",
    "str = \"This is a block level code\"\n",
    "print(str)\n",
    "</code>"
   ]
  },
  {
   "cell_type": "markdown",
   "id": "4e38856a-6902-4180-8bf8-031ddac3b9cb",
   "metadata": {},
   "source": [
    "<b>This is bold text </b> \n",
    "<u>This is bold text</u>\n",
    "__ This is bold text"
   ]
  },
  {
   "cell_type": "markdown",
   "id": "34e3045e-0713-4ca2-898f-d82ffe72cdc2",
   "metadata": {},
   "source": [
    "---\n",
    "\n",
    "<hr>"
   ]
  },
  {
   "cell_type": "markdown",
   "id": "ae1a937e-bbbf-4ad9-9ba7-9c5ed4c25fe1",
   "metadata": {},
   "source": [
    "<ol>\n",
    "<li>Fish</li>\n",
    "<li>Eggs</li>\n",
    "<li>Cheese</li>\n",
    "</ol>\n"
   ]
  },
  {
   "cell_type": "markdown",
   "id": "b6fd8d68-9333-4e9a-a035-5c8847b6a429",
   "metadata": {},
   "source": [
    "| Syntax      | Description |\r\n",
    "| ----------- | ----------- |\r\n",
    "| Header      | Title       |\r\n",
    "| Paragraph   | Text        |"
   ]
  },
  {
   "cell_type": "markdown",
   "id": "3cd5416c-8898-4c7b-9b59-6a7674791413",
   "metadata": {},
   "source": [
    "# Q1\n",
    "#### display a table in markedown to show student name age and city show 5 example students "
   ]
  },
  {
   "cell_type": "markdown",
   "id": "f9f7eadb-f96a-4f2d-b52e-0a2f9b6332b6",
   "metadata": {},
   "source": [
    "| Name | Age | City |\n",
    "|---|---|---|\n",
    "| saman | 18 | moratuwa |\n",
    "| nimal | 21 | panadura |\n",
    "| samanthi | 19 | Rathmalana |\n",
    "| kamal | 20 | Nugegoda  |\n",
    "| nimshi | 22 | Kurunegala |\n"
   ]
  },
  {
   "cell_type": "markdown",
   "id": "43a504e2-914a-4666-81d9-4ea7d66d9b90",
   "metadata": {},
   "source": [
    "# Python programming language"
   ]
  },
  {
   "cell_type": "code",
   "execution_count": null,
   "id": "9e50b7f7-022e-4eb8-ad67-f6e3caebece9",
   "metadata": {},
   "outputs": [],
   "source": [
    "x = 5           # integer\n",
    "y = 3.14        # float\n",
    "name = \"Alice\"  # string\n",
    "is_student = True  # boolean"
   ]
  },
  {
   "cell_type": "markdown",
   "id": "637fc26a-05ac-426d-9ca7-78a7eddd983d",
   "metadata": {},
   "source": [
    "# Q2\n",
    "#### write a program to display  You are an adult. when the age is over 18 and if the age is under 18 You are a minor."
   ]
  },
  {
   "cell_type": "code",
   "execution_count": null,
   "id": "7ca76559-9918-4a58-aeec-33070b7972f1",
   "metadata": {},
   "outputs": [],
   "source": [
    "age = 18\n",
    "if age >= 18:\n",
    "    print(\"You are an adult.\")\n",
    "else:\n",
    "    print(\"You are a minor.\")"
   ]
  },
  {
   "cell_type": "markdown",
   "id": "37a05788-5af1-4cb8-a5f0-d3a80ab1b654",
   "metadata": {},
   "source": [
    "## Loops\n",
    "\n",
    "### For Loop:"
   ]
  },
  {
   "cell_type": "code",
   "execution_count": null,
   "id": "ec0543aa-9caa-44f8-9b0b-4aef87ab1888",
   "metadata": {},
   "outputs": [],
   "source": [
    "for i in range(5):\n",
    "    print(i)  # Prints numbers from 0 to 4"
   ]
  },
  {
   "cell_type": "markdown",
   "id": "a57bef91-a754-44a5-b3d7-b6d4f7e8cdae",
   "metadata": {},
   "source": [
    "### While Loop:"
   ]
  },
  {
   "cell_type": "code",
   "execution_count": null,
   "id": "2d34caff-4591-4127-b875-b2b99947e866",
   "metadata": {},
   "outputs": [],
   "source": [
    "count = 0\n",
    "while count < 5:\n",
    "    print(count)\n",
    "    count += 1  # Equivalent to count = count + 1"
   ]
  },
  {
   "cell_type": "markdown",
   "id": "50ca194c-9ef2-44ae-b59a-ff25746a8288",
   "metadata": {},
   "source": [
    "# Q3\n",
    "### write a Python program to display a triangle from star marks <br>\n",
    "\n",
    "###### *\r",
    "###### **\n",
    "###### \n",
    "> \n",
    "###### \r",
    "r# *###### *br>****"
   ]
  },
  {
   "cell_type": "markdown",
   "id": "ab0f69d3-69e0-44ed-aa5c-61f5d517d9be",
   "metadata": {},
   "source": [
    "def print_triangle(rows):\n",
    "    for i in range(1, rows + 1):\n",
    "        print('*' * i)\n",
    "\n",
    "def main():\n",
    "    try:\n",
    "        rows = int(input(\"Enter the number of rows for the triangle: \"))\n",
    "        if rows > 0:\n",
    "            print_triangle(rows)\n",
    "        else:\n",
    "            print(\"Please enter a positive integer.\")\n",
    "    except ValueError:\n",
    "        print(\"Invalid input. Please enter an integer.\")\n",
    "\n",
    "if __name__ == \"__main__\":\n",
    "    main()\n"
   ]
  },
  {
   "cell_type": "code",
   "execution_count": 6,
   "id": "6c713af2-aeb2-4706-9c9e-1818e5b73759",
   "metadata": {},
   "outputs": [
    {
     "name": "stdout",
     "output_type": "stream",
     "text": [
      "*\n",
      "**\n",
      "***\n",
      "****\n",
      "*****\n",
      "******\n",
      "*******\n",
      "********\n",
      "*********\n",
      "**********\n"
     ]
    }
   ],
   "source": [
    "def print_triangle(rows):\n",
    "    for i in range(1, rows + 1):\n",
    "        print('*' * i)\n",
    "\n",
    "print_triangle(10)"
   ]
  },
  {
   "cell_type": "markdown",
   "id": "09ae6cc2-e386-4be8-9293-72a794c61092",
   "metadata": {},
   "source": [
    "## Functions"
   ]
  },
  {
   "cell_type": "code",
   "execution_count": null,
   "id": "2e379e6e-d836-4a97-bec6-dab60a768e53",
   "metadata": {},
   "outputs": [],
   "source": [
    "def greet(name):\n",
    "    return f\"Hello, {name}!\"\n",
    "\n",
    "print(greet(\"Alice\"))  # Outputs: Hello, Alice!"
   ]
  },
  {
   "cell_type": "markdown",
   "id": "765bdc07-d3dc-4caa-a9bb-dd18878bfb2b",
   "metadata": {},
   "source": [
    "## Lists and Dictionaries"
   ]
  },
  {
   "cell_type": "markdown",
   "id": "9c761d65-abf4-4bcf-acad-bd8e4f022e32",
   "metadata": {},
   "source": [
    "### Lists: "
   ]
  },
  {
   "cell_type": "code",
   "execution_count": null,
   "id": "9af25295-1a58-4030-a858-d96fe31245c8",
   "metadata": {},
   "outputs": [],
   "source": [
    "fruits = [\"apple\", \"banana\", \"cherry\"]\n",
    "print(fruits[1])  # Outputs: banana"
   ]
  },
  {
   "cell_type": "markdown",
   "id": "24caa6df-89bd-417b-884b-043487cd6eb0",
   "metadata": {},
   "source": [
    "### Dictionaries:"
   ]
  },
  {
   "cell_type": "code",
   "execution_count": null,
   "id": "3a468bfa-edcc-44d9-867a-386583bb0d58",
   "metadata": {},
   "outputs": [],
   "source": [
    "person = {\"name\": \"Alice\", \"age\": 25}\n",
    "print(person[\"name\"])  # Outputs: Alice"
   ]
  },
  {
   "cell_type": "markdown",
   "id": "40c09e9a-6667-4837-8c97-ed8564f0e66d",
   "metadata": {},
   "source": [
    "## Type Conversion"
   ]
  },
  {
   "cell_type": "code",
   "execution_count": 8,
   "id": "8fc2d8ce-33e5-4f7a-8646-cb376eb7087a",
   "metadata": {},
   "outputs": [
    {
     "name": "stdin",
     "output_type": "stream",
     "text": [
      "Enter your birth year: 1991\n"
     ]
    },
    {
     "name": "stdout",
     "output_type": "stream",
     "text": [
      "33\n"
     ]
    }
   ],
   "source": [
    "birth_year = input (\"Enter your birth year:\")\n",
    "int(birth_year)\n",
    "age = 2024 - int(birth_year)\n",
    "print(age)"
   ]
  },
  {
   "cell_type": "code",
   "execution_count": null,
   "id": "41866e3a-d26d-403a-8506-687fa37c6b49",
   "metadata": {},
   "outputs": [],
   "source": [
    "int()\n",
    "float()\n",
    "bool()\n",
    "str()"
   ]
  },
  {
   "cell_type": "markdown",
   "id": "0fdd65aa-a9a4-42bf-af49-d1e2521ded4b",
   "metadata": {},
   "source": [
    "# Arithmetic Operators"
   ]
  },
  {
   "cell_type": "code",
   "execution_count": 20,
   "id": "6cb32e4f-4fea-4edf-b353-c6d6f74948a7",
   "metadata": {},
   "outputs": [
    {
     "name": "stdout",
     "output_type": "stream",
     "text": [
      "13\n",
      "7\n",
      "30\n",
      "3.3333333333333335\n",
      "3\n",
      "1\n",
      "1000\n"
     ]
    }
   ],
   "source": [
    "print (10 +3) #13\n",
    "print (10 -3) # 7\n",
    "print (10 *3) # 30\n",
    "print (10 /3) # 3.3333333 flot\n",
    "print (10 //3) #3 int\n",
    "print (10 % 3) #1\n",
    "print (10 **3) #1000"
   ]
  },
  {
   "cell_type": "markdown",
   "id": "7e98a270-5287-49a2-a285-c2ee31aa5503",
   "metadata": {},
   "source": [
    "# Q4\n",
    "### Write a program that prints the numbers from 1 to 100 and for multiples of ‘3’ print “Fizz” instead of the number and for the multiples of ‘5’ print “Buzz”. "
   ]
  },
  {
   "cell_type": "code",
   "execution_count": 11,
   "id": "dd87f24b-1fcb-4ae8-a80d-67d145e962e0",
   "metadata": {},
   "outputs": [
    {
     "name": "stdout",
     "output_type": "stream",
     "text": [
      "1\n",
      "2\n",
      "Fizz\n",
      "4\n",
      "Buzz\n",
      "Fizz\n",
      "7\n",
      "8\n",
      "Fizz\n",
      "Buzz\n",
      "11\n",
      "Fizz\n",
      "13\n",
      "14\n",
      "Fizz Buzz\n",
      "16\n",
      "17\n",
      "Fizz\n",
      "19\n",
      "Buzz\n",
      "Fizz\n",
      "22\n",
      "23\n",
      "Fizz\n",
      "Buzz\n",
      "26\n",
      "Fizz\n",
      "28\n",
      "29\n",
      "Fizz Buzz\n",
      "31\n",
      "32\n",
      "Fizz\n",
      "34\n",
      "Buzz\n",
      "Fizz\n",
      "37\n",
      "38\n",
      "Fizz\n",
      "Buzz\n",
      "41\n",
      "Fizz\n",
      "43\n",
      "44\n",
      "Fizz Buzz\n",
      "46\n",
      "47\n",
      "Fizz\n",
      "49\n",
      "Buzz\n",
      "Fizz\n",
      "52\n",
      "53\n",
      "Fizz\n",
      "Buzz\n",
      "56\n",
      "Fizz\n",
      "58\n",
      "59\n",
      "Fizz Buzz\n",
      "61\n",
      "62\n",
      "Fizz\n",
      "64\n",
      "Buzz\n",
      "Fizz\n",
      "67\n",
      "68\n",
      "Fizz\n",
      "Buzz\n",
      "71\n",
      "Fizz\n",
      "73\n",
      "74\n",
      "Fizz Buzz\n",
      "76\n",
      "77\n",
      "Fizz\n",
      "79\n",
      "Buzz\n",
      "Fizz\n",
      "82\n",
      "83\n",
      "Fizz\n",
      "Buzz\n",
      "86\n",
      "Fizz\n",
      "88\n",
      "89\n",
      "Fizz Buzz\n",
      "91\n",
      "92\n",
      "Fizz\n",
      "94\n",
      "Buzz\n",
      "Fizz\n",
      "97\n",
      "98\n",
      "Fizz\n",
      "Buzz\n"
     ]
    }
   ],
   "source": [
    "for i in range(1, 101):\n",
    "    if i % 3 == 0 and i % 5 == 0:\n",
    "        print(\"Fizz Buzz\")\n",
    "    elif i % 3 == 0:\n",
    "        print(\"Fizz\")\n",
    "    elif i % 5 == 0:\n",
    "        print(\"Buzz\")\n",
    "    else:\n",
    "        print(i)\n",
    "  \n"
   ]
  },
  {
   "cell_type": "code",
   "execution_count": 25,
   "id": "54545b3f-0ded-47fe-bbdb-759fddf3548a",
   "metadata": {},
   "outputs": [
    {
     "name": "stdout",
     "output_type": "stream",
     "text": [
      "13\n"
     ]
    }
   ],
   "source": [
    "#augmented assignment operator\n",
    "x=10  \n",
    "x=x+3\n",
    "# x += 3 \n",
    "# x -= 3\n",
    "# x *= 3\n",
    "\n",
    "print (x)"
   ]
  },
  {
   "cell_type": "code",
   "execution_count": null,
   "id": "e257c0e1-7c1e-44be-af8f-03e011bc8e73",
   "metadata": {},
   "outputs": [],
   "source": [
    "# Operation Precedence\n",
    "y = 10 + 3 * 2\n",
    "y = (10 + 3) * 2\n"
   ]
  },
  {
   "cell_type": "markdown",
   "id": "cbffd1fa-6670-44b3-80a1-73cf786d0c64",
   "metadata": {},
   "source": [
    "# Comparison Operators"
   ]
  },
  {
   "cell_type": "code",
   "execution_count": 33,
   "id": "bc7afbf6-8aaa-4a98-ba5b-3e184f427df1",
   "metadata": {},
   "outputs": [
    {
     "name": "stdout",
     "output_type": "stream",
     "text": [
      "True\n"
     ]
    }
   ],
   "source": [
    "# z = 3 > 2 #True\n",
    "# z =  3 < 2 #\n",
    "# z = 3 >= 2 #True\n",
    "# z = 3 <= 2 #\n",
    "# z = 3 == 2 # False\n",
    "# z = 3 != 2 # True\n",
    "print (z)"
   ]
  },
  {
   "cell_type": "markdown",
   "id": "c423c29d-7006-467e-b9b0-7172754dcd42",
   "metadata": {},
   "source": [
    "# Q5\n",
    "####.create a Python program to sort an array in descending order based on the values "
   ]
  },
  {
   "cell_type": "code",
   "execution_count": 12,
   "id": "a08546fb-0312-4164-a3d9-f45e34860630",
   "metadata": {},
   "outputs": [
    {
     "name": "stdin",
     "output_type": "stream",
     "text": [
      "Enter a list of numbers separated by spaces:  10 11 8 12 13 1 2 \n"
     ]
    },
    {
     "name": "stdout",
     "output_type": "stream",
     "text": [
      "Sorted array from largest to smallest:\n",
      "[13.0, 12.0, 11.0, 10.0, 8.0, 2.0, 1.0]\n"
     ]
    }
   ],
   "source": [
    "def sort_descending(arr):\n",
    "    # Sort the array in descending order\n",
    "    arr.sort(reverse=True)\n",
    "    return arr\n",
    "\n",
    "def main():\n",
    "    try:\n",
    "        # Get the array from the user\n",
    "        user_input = input(\"Enter a list of numbers separated by spaces: \")\n",
    "        # Convert the input string to a list of floats\n",
    "        arr = [float(x) for x in user_input.split()]\n",
    "        \n",
    "        # Sort the array in descending order\n",
    "        sorted_arr = sort_descending(arr)\n",
    "        \n",
    "        print(\"Sorted array from largest to smallest:\")\n",
    "        print(sorted_arr)\n",
    "    except ValueError:\n",
    "        print(\"Invalid input. Please enter numerical values separated by spaces.\")\n",
    "\n",
    "if __name__ == \"__main__\":\n",
    "    main()"
   ]
  },
  {
   "cell_type": "markdown",
   "id": "b18ca12b-c24e-4f96-974d-12b895ba43ca",
   "metadata": {},
   "source": [
    "# Logical Operators "
   ]
  },
  {
   "cell_type": "code",
   "execution_count": 34,
   "id": "85276ea4-815f-480e-b21b-2b963bc24fcf",
   "metadata": {},
   "outputs": [
    {
     "name": "stdout",
     "output_type": "stream",
     "text": [
      "True\n"
     ]
    }
   ],
   "source": [
    "price = 5\n",
    "print (price > 10 and price <30)  # And \n",
    "print (price > 10 or price <30)   # Or \n",
    "print (not price > 10)            # Not\n"
   ]
  },
  {
   "cell_type": "markdown",
   "id": "4693637d-a992-40b1-914b-d76b213787b4",
   "metadata": {},
   "source": [
    "# If Statement"
   ]
  },
  {
   "cell_type": "code",
   "execution_count": 35,
   "id": "ccc14737-de6f-48a8-bc7d-a075c7569e42",
   "metadata": {},
   "outputs": [
    {
     "name": "stdout",
     "output_type": "stream",
     "text": [
      "It's a hot day\n"
     ]
    }
   ],
   "source": [
    "temperature = 35\n",
    "if temperature > 30:\n",
    "    print ( \"It's a hot day\") # talk about string with single cote and duble cote need to have double cotes inside it can have singel cote "
   ]
  },
  {
   "cell_type": "markdown",
   "id": "6fd3bd1e-8eb5-4c92-b789-f3b12311c8a9",
   "metadata": {},
   "source": [
    "# Q2\n",
    "####.write a Python program to convert yards to meters and meters to yards. first, the user needs to enter the value and then  conversion  yard or meter then it should convert to the selected one "
   ]
  },
  {
   "cell_type": "code",
   "execution_count": 1,
   "id": "feb12cb2-d3f4-4757-bc87-014de19aa955",
   "metadata": {},
   "outputs": [
    {
     "name": "stdin",
     "output_type": "stream",
     "text": [
      "Enter the value to be converted:  100\n",
      "Enter 'yard' to convert from yards to meters or 'meter' to convert from meters to yards:  yard\n"
     ]
    },
    {
     "name": "stdout",
     "output_type": "stream",
     "text": [
      "100.0 yards is equal to 91.4400 meters.\n"
     ]
    }
   ],
   "source": [
    "def yards_to_meters(yards):\n",
    "    return yards * 0.9144\n",
    "\n",
    "def meters_to_yards(meters):\n",
    "    return meters / 0.9144\n",
    "\n",
    "def main():\n",
    "    try:\n",
    "        value = float(input(\"Enter the value to be converted: \"))\n",
    "        conversion_type = input(\"Enter 'yard' to convert from yards to meters or 'meter' to convert from meters to yards: \").strip().lower()\n",
    "\n",
    "        if conversion_type == 'yard':\n",
    "            converted_value = yards_to_meters(value)\n",
    "            print(f\"{value} yards is equal to {converted_value:.4f} meters.\")\n",
    "        elif conversion_type == 'meter':\n",
    "            converted_value = meters_to_yards(value)\n",
    "            print(f\"{value} meters is equal to {converted_value:.4f} yards.\")\n",
    "        else:\n",
    "            print(\"Invalid conversion type. Please enter 'yard' or 'meter'.\")\n",
    "    except ValueError:\n",
    "        print(\"Invalid input. Please enter a numerical value.\")\n",
    "\n",
    "if __name__ == \"__main__\":\n",
    "    main()\n"
   ]
  },
  {
   "cell_type": "code",
   "execution_count": null,
   "id": "89656157-de03-42c8-a6ee-24a255ab8a67",
   "metadata": {},
   "outputs": [],
   "source": []
  }
 ],
 "metadata": {
  "kernelspec": {
   "display_name": "Python 3 (ipykernel)",
   "language": "python",
   "name": "python3"
  },
  "language_info": {
   "codemirror_mode": {
    "name": "ipython",
    "version": 3
   },
   "file_extension": ".py",
   "mimetype": "text/x-python",
   "name": "python",
   "nbconvert_exporter": "python",
   "pygments_lexer": "ipython3",
   "version": "3.11.7"
  }
 },
 "nbformat": 4,
 "nbformat_minor": 5
}
